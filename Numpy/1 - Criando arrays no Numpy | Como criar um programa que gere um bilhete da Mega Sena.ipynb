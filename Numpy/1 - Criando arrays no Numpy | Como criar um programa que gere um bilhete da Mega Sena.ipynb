{
 "cells": [
  {
   "cell_type": "code",
   "execution_count": 5,
   "id": "9b5a9e12",
   "metadata": {},
   "outputs": [],
   "source": [
    "import numpy as np"
   ]
  },
  {
   "cell_type": "code",
   "execution_count": 5,
   "id": "15bfabee",
   "metadata": {
    "scrolled": true
   },
   "outputs": [
    {
     "name": "stdout",
     "output_type": "stream",
     "text": [
      "[1 2 3 4]\n"
     ]
    }
   ],
   "source": [
    "# a partir de uma lista ou tupla\n",
    "\n",
    "lista = [1, 2, 3, 4]\n",
    "\n",
    "tupla = (1, 2, 3, 4)\n",
    "\n",
    "array_a_partir_de_lista = np.array(lista)\n",
    "\n",
    "array_a_partir_de_tupla = np.array(tupla)\n",
    "\n",
    "print(array_a_partir_de_lista)"
   ]
  },
  {
   "cell_type": "code",
   "execution_count": 6,
   "id": "ab86573c",
   "metadata": {},
   "outputs": [
    {
     "data": {
      "text/plain": [
       "(array([0, 1, 2, 3, 4, 5, 6, 7, 8, 9]),\n",
       " array([10, 20, 30, 40, 50, 60, 70, 80, 90]))"
      ]
     },
     "execution_count": 6,
     "metadata": {},
     "output_type": "execute_result"
    }
   ],
   "source": [
    "# usando o range\n",
    "\n",
    "array_simples = np.arange(10)\n",
    "\n",
    "array_sequencial = np.arange(10, 100, 10)\n",
    "\n",
    "array_simples, array_sequencial"
   ]
  },
  {
   "cell_type": "code",
   "execution_count": 9,
   "id": "f4c13898",
   "metadata": {},
   "outputs": [
    {
     "data": {
      "text/plain": [
       "(array([0., 0., 0., 0., 0.]), array([1., 1., 1., 1., 1.]))"
      ]
     },
     "execution_count": 9,
     "metadata": {},
     "output_type": "execute_result"
    }
   ],
   "source": [
    "# criando arrays de zeros ou ums\n",
    "\n",
    "vetor_zero = np.zeros(5)\n",
    "vetor_um = np.ones(5)\n",
    "\n",
    "vetor_zero, vetor_um"
   ]
  },
  {
   "cell_type": "code",
   "execution_count": 11,
   "id": "1fbf94e6",
   "metadata": {},
   "outputs": [
    {
     "name": "stdout",
     "output_type": "stream",
     "text": [
      "[[0.73510969 0.36361787]\n",
      " [0.64945503 0.78922917]\n",
      " [0.0056494  0.50561822]]\n",
      "[7 3 5]\n",
      "[-0.42854496 -1.94396972 -1.11497855]\n"
     ]
    }
   ],
   "source": [
    "# criando vetores aleatórios\n",
    "\n",
    "vetor_aleatorio_entre_0_1 = np.random.rand(3, 2) # três vetores de tamanho \"2\"\n",
    "vetor_aleatorio_inteiro = np.random.randint(low = 0, high = 10, size = 3) \n",
    "vetor_aleatorio_com_negativos = np.random.uniform(-2, 2, 3) # intervalo entre -2 e 2 ; tamanho 3\n",
    "\n",
    "print(vetor_aleatorio_entre_0_1)\n",
    "print(vetor_aleatorio_inteiro)\n",
    "print(vetor_aleatorio_com_negativos)"
   ]
  },
  {
   "cell_type": "code",
   "execution_count": 12,
   "id": "974666fb",
   "metadata": {},
   "outputs": [
    {
     "data": {
      "text/plain": [
       "(array([[1, 2, 3],\n",
       "        [4, 5, 6]]),\n",
       " array([[1, 2, 3],\n",
       "        [4, 5, 6],\n",
       "        [7, 8, 9]]))"
      ]
     },
     "execution_count": 12,
     "metadata": {},
     "output_type": "execute_result"
    }
   ],
   "source": [
    "# criando arrays bi ou tridimensionais\n",
    "\n",
    "lista1 = [1, 2, 3]\n",
    "lista2 = [4, 5, 6]\n",
    "lista3 = [7, 8, 9]\n",
    "\n",
    "array2d = np.array([lista1, lista2])\n",
    "\n",
    "array3d = np.array([lista1, lista2, lista3])\n",
    "\n",
    "array2d, array3d"
   ]
  },
  {
   "cell_type": "code",
   "execution_count": 13,
   "id": "d5840e9e",
   "metadata": {},
   "outputs": [
    {
     "data": {
      "text/plain": [
       "matrix([[20, 30],\n",
       "        [90, 80]])"
      ]
     },
     "execution_count": 13,
     "metadata": {},
     "output_type": "execute_result"
    }
   ],
   "source": [
    "# criando matrizes\n",
    "\n",
    "matriz = np.matrix([[20, 30], [90, 80]])\n",
    "\n",
    "matriz"
   ]
  },
  {
   "cell_type": "code",
   "execution_count": 14,
   "id": "308a35d6",
   "metadata": {},
   "outputs": [
    {
     "name": "stdout",
     "output_type": "stream",
     "text": [
      "[1, 1, 1, 1, 1, 1, 1, 1]\n",
      "[2 2 2 2]\n"
     ]
    }
   ],
   "source": [
    "# listas x numpy\n",
    "\n",
    "lista_1 = [1, 1, 1, 1]\n",
    "lista_2 = [1, 1, 1, 1]\n",
    "\n",
    "print(lista_1 + lista_2)\n",
    "print(np.array(lista_1) + np.array(lista_2))"
   ]
  },
  {
   "cell_type": "code",
   "execution_count": 3,
   "id": "bb727283",
   "metadata": {},
   "outputs": [
    {
     "name": "stdout",
     "output_type": "stream",
     "text": [
      "0.8325431660050526 0.011586374952457845\n",
      "Os vetores são 71.85536195930231 vezes mais rápidos.\n"
     ]
    }
   ],
   "source": [
    "# teste lista x numpy\n",
    "\n",
    "import timeit\n",
    "\n",
    "# listas\n",
    "\n",
    "tempo_listas = timeit.timeit('''X = range(1000); Y = range(1000); [X[i] + Y[i] for i in range(len(X))]''', number = 10000)\n",
    "\n",
    "# vetores\n",
    "\n",
    "tempo_vetor = timeit.timeit('''X = np.arange(1000); Y = np.arange(1000); X + Y''', number = 10000, setup = \"import numpy as np\")\n",
    "\n",
    "print(tempo_listas, tempo_vetor)\n",
    "print(f'Os vetores são {tempo_listas/ tempo_vetor} vezes mais rápidos.')\n",
    "# print (\"Numpy nesse caso é \" + str(t1/t2) + \"mais rápido\")\n"
   ]
  },
  {
   "cell_type": "code",
   "execution_count": 17,
   "id": "5965a55c",
   "metadata": {},
   "outputs": [],
   "source": [
    "'''\n",
    "Exercício 30: Peça pro usuário inputar a cotação de 3 ações. Crie um array de cotações.\n",
    "Exercício 31: Peça pro usuário digitar dois números no programa e crie um arrange sequencial entre esses números\n",
    "Exercício 32: Crie um programa que gere números aleatórios inteiros entre 0 e 60 e devolva 6 números da mega sena pro\n",
    "usuário. Depois, exiba uma probabilidade aleatória de o usuário sair vencedor. garanta que ejam 6 números diferentes!\n",
    "'''"
   ]
  },
  {
   "cell_type": "code",
   "execution_count": 7,
   "id": "59112b52",
   "metadata": {},
   "outputs": [
    {
     "name": "stdout",
     "output_type": "stream",
     "text": [
      "Digite a cotação da primeira ação: 20\n",
      "Digite a cotação da segunda ação: 30\n",
      "Digite a cotação da terceira ação: 40\n",
      "[20. 30. 40.]\n"
     ]
    }
   ],
   "source": [
    "acao1 = float(input(\"Digite a cotação da primeira ação: \"))\n",
    "acao2 = float(input(\"Digite a cotação da segunda ação: \"))\n",
    "acao3 = float(input(\"Digite a cotação da terceira ação: \"))\n",
    "\n",
    "array = np.array([acao1, acao2, acao3])\n",
    "\n",
    "print(array)"
   ]
  },
  {
   "cell_type": "code",
   "execution_count": 8,
   "id": "2d1ee591",
   "metadata": {},
   "outputs": [
    {
     "name": "stdout",
     "output_type": "stream",
     "text": [
      "Digite o primeiro número: 10\n",
      "Digite o segundo número: 20\n"
     ]
    },
    {
     "data": {
      "text/plain": [
       "array([10., 11., 12., 13., 14., 15., 16., 17., 18., 19.])"
      ]
     },
     "execution_count": 8,
     "metadata": {},
     "output_type": "execute_result"
    }
   ],
   "source": [
    "inicio_sequencia = float(input(\"Digite o primeiro número: \"))\n",
    "final_sequencia = float(input(\"Digite o segundo número: \"))\n",
    "\n",
    "sequencia = np.arange(inicio_sequencia, final_sequencia)\n",
    "\n",
    "sequencia"
   ]
  },
  {
   "cell_type": "code",
   "execution_count": 13,
   "id": "b4785dda",
   "metadata": {},
   "outputs": [
    {
     "name": "stdout",
     "output_type": "stream",
     "text": [
      "Seguem os números da mega sena: [15, 2, 14, 39, 13, 28]. A probabilidade de vitória é de 0.834236293728925\n"
     ]
    }
   ],
   "source": [
    "lista_numeros = []\n",
    "\n",
    "lista_numeros.append(np.random.randint(0, 60, 1)[0])\n",
    "\n",
    "while len(lista_numeros) < 6:\n",
    "    \n",
    "    mega_sena = np.random.randint(0, 60, 1)\n",
    "    \n",
    "    if mega_sena not in lista_numeros:\n",
    "        \n",
    "        lista_numeros.append(mega_sena[0])\n",
    "        \n",
    "probabilidade_vitoria = np.random.rand(1)[0]\n",
    "\n",
    "print(f'Seguem os números da mega sena: {lista_numeros}. A probabilidade de vitória é de {probabilidade_vitoria}')"
   ]
  }
 ],
 "metadata": {
  "kernelspec": {
   "display_name": "Python 3 (ipykernel)",
   "language": "python",
   "name": "python3"
  },
  "language_info": {
   "codemirror_mode": {
    "name": "ipython",
    "version": 3
   },
   "file_extension": ".py",
   "mimetype": "text/x-python",
   "name": "python",
   "nbconvert_exporter": "python",
   "pygments_lexer": "ipython3",
   "version": "3.11.3"
  }
 },
 "nbformat": 4,
 "nbformat_minor": 5
}
