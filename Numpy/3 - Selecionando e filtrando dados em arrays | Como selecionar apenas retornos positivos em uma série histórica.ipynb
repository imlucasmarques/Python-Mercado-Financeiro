{
 "cells": [
  {
   "cell_type": "code",
   "execution_count": 3,
   "id": "1c5df2b7",
   "metadata": {},
   "outputs": [],
   "source": [
    "import numpy as np"
   ]
  },
  {
   "cell_type": "code",
   "execution_count": 4,
   "id": "e0b6b7b6",
   "metadata": {},
   "outputs": [],
   "source": [
    "vetor = np.array([1, 2, 3, 4, 5, 6, 7, 8, 9])\n",
    "\n",
    "vetor2d = np.array([[1, 2, 3], [4, 5, 6], [7, 8, 9]])"
   ]
  },
  {
   "cell_type": "code",
   "execution_count": 5,
   "id": "c7698e32",
   "metadata": {},
   "outputs": [
    {
     "name": "stdout",
     "output_type": "stream",
     "text": [
      "1\n",
      "[1 2]\n",
      "9\n",
      "7\n",
      "2\n"
     ]
    }
   ],
   "source": [
    "# posições \n",
    "\n",
    "print(vetor[0])\n",
    "\n",
    "print(vetor[0:2])\n",
    "\n",
    "print(vetor[-1])\n",
    "\n",
    "print(vetor2d[2][0])\n",
    "\n",
    "print(vetor2d[0][1])"
   ]
  },
  {
   "cell_type": "code",
   "execution_count": 6,
   "id": "7bd8cca5",
   "metadata": {},
   "outputs": [
    {
     "name": "stdout",
     "output_type": "stream",
     "text": [
      "[6 7 8 9]\n",
      "[2 4 6 8]\n",
      "[5]\n",
      "[6 7]\n"
     ]
    }
   ],
   "source": [
    "# filtrando dados\n",
    "\n",
    "vetor = np.array([1, 2, 3, 4, 5, 6, 7, 8, 9])\n",
    "\n",
    "maior_que_5 = vetor[vetor > 5]\n",
    "\n",
    "somente_par = vetor[vetor % 2 == 0]\n",
    "\n",
    "igual_a_5 = vetor[vetor == 5]\n",
    "\n",
    "maior_que_3_menor_que_8 = vetor[(vetor > 5) & (vetor < 8)]\n",
    "\n",
    "print(maior_que_5)\n",
    "print(somente_par)\n",
    "print(igual_a_5)\n",
    "print(maior_que_3_menor_que_8)"
   ]
  },
  {
   "cell_type": "code",
   "execution_count": null,
   "id": "768d5270",
   "metadata": {},
   "outputs": [],
   "source": [
    "'''\n",
    "Exercício 33: Faça uma programa que gere um vetor de retornos positivos entre -1 e 1 na quantidade de dias que o \n",
    "o usuário escolher. Devolva um vetor dos retornos positivos, o primeiro e o último retorno.\n",
    "'''"
   ]
  },
  {
   "cell_type": "code",
   "execution_count": 8,
   "id": "f5d003d7",
   "metadata": {},
   "outputs": [
    {
     "name": "stdout",
     "output_type": "stream",
     "text": [
      "Digite quantos retornos devem ser gerados: 5\n",
      " Os retornos positivos são [0.20521713 0.53258788 0.54662023 0.0369432  0.10494663] \n",
      "\t\tO primeiro retorno é 0.2052171301117891 e o último é 0.10494662852223313\n"
     ]
    }
   ],
   "source": [
    "dias = int(input(\"Digite quantos retornos devem ser gerados: \"))\n",
    "\n",
    "retorno_aleatorio = np.random.uniform(-1, 1, dias)\n",
    "\n",
    "retornos_positivos = retorno_aleatorio[retorno_aleatorio > 0]\n",
    "\n",
    "print(f''' Os retornos positivos são {retornos_positivos} \n",
    "\t\tO primeiro retorno é {retorno_aleatorio[0]} e o último é {retorno_aleatorio[-1]}''')"
   ]
  }
 ],
 "metadata": {
  "kernelspec": {
   "display_name": "Python 3 (ipykernel)",
   "language": "python",
   "name": "python3"
  },
  "language_info": {
   "codemirror_mode": {
    "name": "ipython",
    "version": 3
   },
   "file_extension": ".py",
   "mimetype": "text/x-python",
   "name": "python",
   "nbconvert_exporter": "python",
   "pygments_lexer": "ipython3",
   "version": "3.11.3"
  }
 },
 "nbformat": 4,
 "nbformat_minor": 5
}
