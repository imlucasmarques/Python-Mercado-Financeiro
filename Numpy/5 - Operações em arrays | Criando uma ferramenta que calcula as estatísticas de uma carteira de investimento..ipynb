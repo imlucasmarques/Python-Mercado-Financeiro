{
 "cells": [
  {
   "cell_type": "code",
   "execution_count": 1,
   "id": "8c6891c4",
   "metadata": {},
   "outputs": [],
   "source": [
    "import numpy as np"
   ]
  },
  {
   "cell_type": "code",
   "execution_count": 2,
   "id": "743bc005",
   "metadata": {},
   "outputs": [
    {
     "name": "stdout",
     "output_type": "stream",
     "text": [
      "[5 3 7 3]\n",
      "[1, 1, 1, 1, 4, 2, 6, 2]\n"
     ]
    }
   ],
   "source": [
    "# todas as operações funcionam com os vetores.\n",
    "\n",
    "array1 = np.array([1, 1, 1, 1])\n",
    "array2 = np.array([4, 2, 6, 2])\n",
    "array3 = np.array([2, 2])\n",
    "\n",
    "lista_normal = [1, 1, 1, 1]\n",
    "lista_normal2 = [4, 2, 6, 2]\n",
    "\n",
    "print(array1 + array2)\n",
    "print(lista_normal + lista_normal2)"
   ]
  },
  {
   "cell_type": "code",
   "execution_count": 6,
   "id": "ab0ef5ac",
   "metadata": {
    "scrolled": true
   },
   "outputs": [
    {
     "ename": "ValueError",
     "evalue": "operands could not be broadcast together with shapes (4,) (2,) ",
     "output_type": "error",
     "traceback": [
      "\u001b[0;31m---------------------------------------------------------------------------\u001b[0m",
      "\u001b[0;31mValueError\u001b[0m                                Traceback (most recent call last)",
      "Cell \u001b[0;32mIn[6], line 1\u001b[0m\n\u001b[0;32m----> 1\u001b[0m \u001b[38;5;28mprint\u001b[39m(\u001b[43marray1\u001b[49m\u001b[43m \u001b[49m\u001b[38;5;241;43m+\u001b[39;49m\u001b[43m \u001b[49m\u001b[43marray3\u001b[49m) \u001b[38;5;66;03m# não funciona!\u001b[39;00m\n",
      "\u001b[0;31mValueError\u001b[0m: operands could not be broadcast together with shapes (4,) (2,) "
     ]
    }
   ],
   "source": [
    "print(array1 + array3) # não funciona!"
   ]
  },
  {
   "cell_type": "code",
   "execution_count": 7,
   "id": "d9cd5e03",
   "metadata": {},
   "outputs": [
    {
     "name": "stdout",
     "output_type": "stream",
     "text": [
      "[21 21 21 21]\n"
     ]
    }
   ],
   "source": [
    "# se eu quiser somar um número só?\n",
    "\n",
    "soma_a_todos_os_elementos = np.array([1, 1, 1, 1]) + 20\n",
    "\n",
    "print(soma_a_todos_os_elementos)"
   ]
  },
  {
   "cell_type": "code",
   "execution_count": 9,
   "id": "cbe87838",
   "metadata": {},
   "outputs": [
    {
     "name": "stdout",
     "output_type": "stream",
     "text": [
      "[-3 -1 -5 -1]\n",
      "[0.25       0.5        0.16666667 0.5       ]\n",
      "[4 2 6 2]\n",
      "[1 1 1 1]\n"
     ]
    }
   ],
   "source": [
    "# todas as operações funcionam normal\n",
    "\n",
    "subtracao = array1 - array2\n",
    "divisao = array1/ array2\n",
    "multiplicacao = array1 * array2\n",
    "exponenciacao = array1 ** array2\n",
    "\n",
    "print(subtracao)\n",
    "print(divisao)\n",
    "print(multiplicacao)\n",
    "print(exponenciacao)"
   ]
  },
  {
   "cell_type": "code",
   "execution_count": 10,
   "id": "14628775",
   "metadata": {},
   "outputs": [
    {
     "name": "stdout",
     "output_type": "stream",
     "text": [
      "[ 1  4 -4 -1  2]\n",
      "2\n",
      "4\n",
      "-4\n",
      "[1 4 4 1 2]\n"
     ]
    }
   ],
   "source": [
    "# operações dentro do próprio vetor\n",
    "\n",
    "vetor = np.array([1, 4, -4, -1, 2])\n",
    "\n",
    "print(vetor)\n",
    "print(vetor.sum())\n",
    "print(vetor.max())\n",
    "print(vetor.min())\n",
    "print(np.abs(vetor))"
   ]
  },
  {
   "cell_type": "code",
   "execution_count": 11,
   "id": "f8ea3131",
   "metadata": {},
   "outputs": [
    {
     "name": "stdout",
     "output_type": "stream",
     "text": [
      "401.0\n",
      "1.0\n",
      "799.56938410622\n",
      "639311.2\n"
     ]
    }
   ],
   "source": [
    "# estatísticas descritivas\n",
    "\n",
    "vetor = np.array([1, 20, -4, -12, 2000])\n",
    "\n",
    "media = np.mean(vetor)\n",
    "mediana = np.median(vetor)\n",
    "desvio_p = np.std(vetor)\n",
    "var = np.var(vetor)\n",
    "\n",
    "print(media)\n",
    "print(mediana)\n",
    "print(desvio_p) # desvio padrão\n",
    "print(var) # variancia"
   ]
  },
  {
   "cell_type": "code",
   "execution_count": 13,
   "id": "0f832273",
   "metadata": {},
   "outputs": [
    {
     "name": "stdout",
     "output_type": "stream",
     "text": [
      "[[ 1.          0.25471058 -0.13247913]\n",
      " [ 0.25471058  1.          0.76783876]\n",
      " [-0.13247913  0.76783876  1.        ]]\n"
     ]
    }
   ],
   "source": [
    "# matriz de correlação\n",
    "\n",
    "vetor2 = np.array([5, 4, 3, -5, 4])\n",
    "vetor3 = np.array([2, 6, 7, -5, 1])\n",
    "\n",
    "correlacao = np.corrcoef((vetor, vetor2, vetor3))\n",
    "\n",
    "print(correlacao)"
   ]
  },
  {
   "cell_type": "code",
   "execution_count": null,
   "id": "40438127",
   "metadata": {},
   "outputs": [],
   "source": [
    "'''\n",
    "Exercício 35: Faça um programa que o usuário digite a rentabilidade de ações, com quantas ações o usuário quiser.\n",
    "Transforme essas listas em arrays e devolva pro usuário:\n",
    "- A média de rentabilidade da carteira.\n",
    "- O desvio padrão da carteira\n",
    "- A mediana de retornos da carteira.\n",
    "- O maior retorno.\n",
    "- O menor retorno.\n",
    "'''"
   ]
  },
  {
   "cell_type": "code",
   "execution_count": 15,
   "id": "830df770",
   "metadata": {},
   "outputs": [
    {
     "name": "stdout",
     "output_type": "stream",
     "text": [
      "Digite uma rentabilidade: 0.2\n",
      "Deseja cadastrar mais rentabilidades? [S/N]s\n",
      "Digite uma rentabilidade: 0.3\n",
      "Deseja cadastrar mais rentabilidades? [S/N]s\n",
      "Digite uma rentabilidade: 0.65\n",
      "Deseja cadastrar mais rentabilidades? [S/N]n\n",
      "\n",
      "Aqui estão as estatísticas das rentabilidades: \n",
      "Media: 38%\n",
      "Mediana: 30%\n",
      "Desvio padrão: 19%\n",
      "Rentabilidade máxima: 65%\n",
      "Rentabilidade mínima: 20%\n"
     ]
    }
   ],
   "source": [
    "continuar = True\n",
    "\n",
    "array_rentabilidade = np.array([])\n",
    "\n",
    "while continuar:\n",
    "    \n",
    "    rent = float(input(\"Digite uma rentabilidade: \"))\n",
    "    \n",
    "    array_rentabilidade = np.append(array_rentabilidade, rent)\n",
    "    \n",
    "    deseja_continuar = str(input(\"Deseja cadastrar mais rentabilidades? [S/N]\")).lower()\n",
    "    \n",
    "    if deseja_continuar != \"n\" and deseja_continuar != \"s\":\n",
    "        \n",
    "        invalido = True\n",
    "        \n",
    "        while invalido:\n",
    "            \n",
    "                deseja_continuar = str(input(\"Deseja cadastrar mais rentabilidades? [S/N]\")).lower()\n",
    "\n",
    "                if deseja_continuar == \"n\" or deseja_continuar == \"s\":\n",
    "                    \n",
    "                    break\n",
    "                    \n",
    "    if deseja_continuar == \"n\":\n",
    "        \n",
    "        break\n",
    "\n",
    "        \n",
    "media = np.mean(array_rentabilidade)\n",
    "mediana = np.median(array_rentabilidade)\n",
    "desvio_padrao = np.std(array_rentabilidade)\n",
    "rent_max = array_rentabilidade.max()\n",
    "rent_min = array_rentabilidade.min()\n",
    "\n",
    "media = \"{:.0%}\".format(media)\n",
    "mediana = \"{:.0%}\".format(mediana)\n",
    "desvio_padrao = \"{:.0%}\".format(desvio_padrao)\n",
    "rent_max = \"{:.0%}\".format(rent_max)\n",
    "rent_min = \"{:.0%}\".format(rent_min)\n",
    "\n",
    "print(\"\")\n",
    "print(\"Aqui estão as estatísticas das rentabilidades: \")\n",
    "print(f\"Media: {media}\")\n",
    "print(f\"Mediana: {mediana}\")\n",
    "print(f\"Desvio padrão: {desvio_padrao}\")\n",
    "print(f\"Rentabilidade máxima: {rent_max}\")\n",
    "print(f\"Rentabilidade mínima: {rent_min}\")\n"
   ]
  },
  {
   "cell_type": "code",
   "execution_count": null,
   "id": "b58285a7",
   "metadata": {},
   "outputs": [],
   "source": []
  }
 ],
 "metadata": {
  "kernelspec": {
   "display_name": "Python 3 (ipykernel)",
   "language": "python",
   "name": "python3"
  },
  "language_info": {
   "codemirror_mode": {
    "name": "ipython",
    "version": 3
   },
   "file_extension": ".py",
   "mimetype": "text/x-python",
   "name": "python",
   "nbconvert_exporter": "python",
   "pygments_lexer": "ipython3",
   "version": "3.11.3"
  }
 },
 "nbformat": 4,
 "nbformat_minor": 5
}
