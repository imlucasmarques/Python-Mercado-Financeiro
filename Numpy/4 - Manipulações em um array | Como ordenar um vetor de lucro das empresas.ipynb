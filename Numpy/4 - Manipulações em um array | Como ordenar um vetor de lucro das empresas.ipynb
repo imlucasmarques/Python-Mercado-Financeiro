{
 "cells": [
  {
   "cell_type": "code",
   "execution_count": 1,
   "id": "ee3c824c",
   "metadata": {},
   "outputs": [],
   "source": [
    "import numpy as np"
   ]
  },
  {
   "cell_type": "code",
   "execution_count": 8,
   "id": "80fdcf08",
   "metadata": {},
   "outputs": [
    {
     "name": "stdout",
     "output_type": "stream",
     "text": [
      "[20 21 22 23 24  0  1  2  3  4  5  6  7  8  9 10 11 12 13 14]\n"
     ]
    }
   ],
   "source": [
    "# juntar dois arrays\n",
    "\n",
    "array1 = np.arange(20,25)\n",
    "array2 = np.arange(15)\n",
    "\n",
    "array_completo = np.concatenate([array1, array2])\n",
    "\n",
    "print(array_completo)"
   ]
  },
  {
   "cell_type": "code",
   "execution_count": 9,
   "id": "25e671ec",
   "metadata": {},
   "outputs": [
    {
     "name": "stdout",
     "output_type": "stream",
     "text": [
      "[20 21 22 23 24]\n",
      "[ 0  1  2  3  4  5  6  7  8  9 10 11 12 13 14]\n"
     ]
    }
   ],
   "source": [
    "# separando em dois arrays\n",
    "\n",
    "array_separado1, array_separado2 = np.split(array_completo,[5])\n",
    "\n",
    "print(array_separado1)\n",
    "print(array_separado2)"
   ]
  },
  {
   "cell_type": "code",
   "execution_count": 10,
   "id": "2ed05025",
   "metadata": {},
   "outputs": [
    {
     "name": "stdout",
     "output_type": "stream",
     "text": [
      "[  20   21   22 3000   23   24    0    1    2    3    4    5    6    7\n",
      "    8    9   10   11   12   13   14 2000]\n"
     ]
    }
   ],
   "source": [
    "# colocar novos dados em um array\n",
    "\n",
    "# [20 21 22 23 24  0  1  2  3  4  5  6  7  8  9 10 11 12 13 14]\n",
    "\n",
    "array_completo = np.append(array_completo, 2000)\n",
    "\n",
    "array_completo = np.insert(array_completo, 3, 3000)\n",
    "\n",
    "print(array_completo)"
   ]
  },
  {
   "cell_type": "code",
   "execution_count": 11,
   "id": "36b21fdf",
   "metadata": {},
   "outputs": [
    {
     "name": "stdout",
     "output_type": "stream",
     "text": [
      "[  20   21   22 3000   23   24    0    1    2    3    4    5    6    7\n",
      "    8    9   10   11   12   13   14]\n"
     ]
    }
   ],
   "source": [
    "# deletar dados de um array\n",
    "\n",
    "array_completo = np.delete(array_completo, -1)\n",
    "\n",
    "print(array_completo)"
   ]
  },
  {
   "cell_type": "code",
   "execution_count": 12,
   "id": "eece8b72",
   "metadata": {},
   "outputs": [
    {
     "name": "stdout",
     "output_type": "stream",
     "text": [
      "[[0 1 2]\n",
      " [3 4 5]\n",
      " [6 7 8]]\n"
     ]
    }
   ],
   "source": [
    "# reshape\n",
    "\n",
    "array_3x3 = np.arange(9).reshape(3, 3) #isso aqui é útil na hora de fazer regressão linear\n",
    "\n",
    "print(array_3x3)"
   ]
  },
  {
   "cell_type": "code",
   "execution_count": 13,
   "id": "4df390fa",
   "metadata": {},
   "outputs": [
    {
     "name": "stdout",
     "output_type": "stream",
     "text": [
      "[ True  True  True  True  True  True  True  True  True  True  True False\n",
      " False False]\n",
      "[  0   0   0   0   0   0   0   0   0   0   0 675  74 465]\n"
     ]
    }
   ],
   "source": [
    "# trocando números dentro de uma condição\n",
    "\n",
    "array_inicial = np.array([4, 4, 4, 4, 7, 6, 5, 32, 13, 2, 32, 675, 74, 465])\n",
    "\n",
    "# como trocar todos os números menores que 40 por 0?\n",
    "\n",
    "array_booleano = (array_inicial < 40)\n",
    "\n",
    "print(array_booleano)\n",
    "\n",
    "array_inicial[array_booleano] = 0\n",
    "\n",
    "print(array_inicial)"
   ]
  },
  {
   "cell_type": "code",
   "execution_count": 14,
   "id": "48590505",
   "metadata": {},
   "outputs": [
    {
     "name": "stdout",
     "output_type": "stream",
     "text": [
      "[    3     5    20   349  2309 12490 23109] [23109 12490  2309   349    20     5     3]\n"
     ]
    }
   ],
   "source": [
    "# como ordenar objetos dentro de uma lista?\n",
    "\n",
    "array_desordenado = np.array([23109, 2309, 349, 20, 3, 5, 12490])\n",
    "\n",
    "array_crescente = np.sort(array_desordenado)\n",
    "array_decrescente = -np.sort(-array_desordenado)\n",
    "\n",
    "print(array_crescente, array_decrescente)"
   ]
  },
  {
   "cell_type": "code",
   "execution_count": null,
   "id": "02b10849",
   "metadata": {},
   "outputs": [],
   "source": [
    "# exercício 34: peça ao usuário digitar o lucro da Petrobras, Vale e Weg. Mostre os lucros em ordem do maior pro menor."
   ]
  },
  {
   "cell_type": "code",
   "execution_count": null,
   "id": "741dd35c",
   "metadata": {},
   "outputs": [],
   "source": [
    "empresas = np.array([\"Weg\", \"Vale\", \"Petrobras\"])\n",
    "\n",
    "array_lucros = np.array([])\n",
    "\n",
    "for empresa in empresas:\n",
    "    \n",
    "    lucro = float(input(f'Digite o lucro da {empresa}:'))\n",
    "    array_lucros = np.append(array_lucros, lucro)\n",
    "\n",
    "array_lucros = -np.sort(-array_lucros)\n",
    "\n",
    "print(f'Lucro das empresas, do maior pro menor: {array_lucros}')"
   ]
  },
  {
   "cell_type": "code",
   "execution_count": null,
   "id": "cae3ed3b",
   "metadata": {},
   "outputs": [],
   "source": []
  }
 ],
 "metadata": {
  "kernelspec": {
   "display_name": "Python 3 (ipykernel)",
   "language": "python",
   "name": "python3"
  },
  "language_info": {
   "codemirror_mode": {
    "name": "ipython",
    "version": 3
   },
   "file_extension": ".py",
   "mimetype": "text/x-python",
   "name": "python",
   "nbconvert_exporter": "python",
   "pygments_lexer": "ipython3",
   "version": "3.11.3"
  }
 },
 "nbformat": 4,
 "nbformat_minor": 5
}
