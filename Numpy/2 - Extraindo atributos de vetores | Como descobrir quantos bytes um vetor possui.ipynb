{
 "cells": [
  {
   "cell_type": "code",
   "execution_count": 1,
   "id": "3a38e065",
   "metadata": {},
   "outputs": [],
   "source": [
    "import numpy as np"
   ]
  },
  {
   "cell_type": "code",
   "execution_count": 4,
   "id": "cf30d35f",
   "metadata": {},
   "outputs": [
    {
     "name": "stdout",
     "output_type": "stream",
     "text": [
      "[0 1 2 3 4 5 6 7 8 9]\n",
      "80\n",
      "8\n"
     ]
    }
   ],
   "source": [
    "array = np.arange(10)\n",
    "\n",
    "# a importância de ser homogêneo\n",
    "\n",
    "print(array)\n",
    "print(array.nbytes)\n",
    "print(array.itemsize)"
   ]
  },
  {
   "cell_type": "code",
   "execution_count": 5,
   "id": "b9c73b6c",
   "metadata": {},
   "outputs": [
    {
     "name": "stdout",
     "output_type": "stream",
     "text": [
      "2\n",
      "(2, 3)\n"
     ]
    }
   ],
   "source": [
    "array2d = np.array([[1, 2, 3],[4, 5, 6]])\n",
    "\n",
    "# número de dimensões \n",
    "\n",
    "print(array2d.ndim)\n",
    "print(array2d.shape)"
   ]
  },
  {
   "cell_type": "code",
   "execution_count": 9,
   "id": "cba47cc2",
   "metadata": {},
   "outputs": [
    {
     "name": "stdout",
     "output_type": "stream",
     "text": [
      "3\n",
      "6\n",
      "2\n"
     ]
    }
   ],
   "source": [
    "# tamanho do vetor\n",
    "\n",
    "print(len([1, 2, 3]))\n",
    "\n",
    "print(array2d.size)\n",
    "\n",
    "print(len(array2d))\n"
   ]
  }
 ],
 "metadata": {
  "kernelspec": {
   "display_name": "Python 3 (ipykernel)",
   "language": "python",
   "name": "python3"
  },
  "language_info": {
   "codemirror_mode": {
    "name": "ipython",
    "version": 3
   },
   "file_extension": ".py",
   "mimetype": "text/x-python",
   "name": "python",
   "nbconvert_exporter": "python",
   "pygments_lexer": "ipython3",
   "version": "3.11.3"
  }
 },
 "nbformat": 4,
 "nbformat_minor": 5
}
