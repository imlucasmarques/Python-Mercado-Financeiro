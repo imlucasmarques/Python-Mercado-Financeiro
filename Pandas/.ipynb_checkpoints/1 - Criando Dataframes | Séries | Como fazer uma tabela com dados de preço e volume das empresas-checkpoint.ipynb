{
 "cells": [
  {
   "cell_type": "code",
   "execution_count": 1,
   "id": "a9a44985",
   "metadata": {},
   "outputs": [],
   "source": [
    "import pandas as pd\n",
    "import numpy as np"
   ]
  },
  {
   "cell_type": "code",
   "execution_count": 5,
   "id": "0e5a5fc3",
   "metadata": {},
   "outputs": [
    {
     "name": "stdout",
     "output_type": "stream",
     "text": [
      "A    1.585528\n",
      "B    1.165163\n",
      "C    1.204734\n",
      "D   -0.328840\n",
      "E   -0.024093\n",
      "dtype: float64\n"
     ]
    },
    {
     "data": {
      "text/plain": [
       "0    Python\n",
       "1       SQL\n",
       "2       VBA\n",
       "dtype: object"
      ]
     },
     "execution_count": 5,
     "metadata": {},
     "output_type": "execute_result"
    }
   ],
   "source": [
    "# séries\n",
    "\n",
    "# argumentos: listas/ vetores\n",
    "\n",
    "serie_inicial = pd.Series(np.random.randn(5))\n",
    "\n",
    "serie_inicial = pd.Series(np.random.randn(5), index = [\"A\", \"B\", \"C\", \"D\", \"E\"])\n",
    "\n",
    "print(serie_inicial)\n",
    "\n",
    "serie_lista = pd.Series([\"Python\", \"SQL\", \"VBA\"])\n",
    "\n",
    "serie_lista"
   ]
  },
  {
   "cell_type": "code",
   "execution_count": 6,
   "id": "5880b1bc",
   "metadata": {},
   "outputs": [
    {
     "name": "stdout",
     "output_type": "stream",
     "text": [
      "WEGE3    20.20\n",
      "PETR4    19.28\n",
      "VALE     64.90\n",
      "PETZ3    12.03\n",
      "dtype: float64\n",
      "20.2\n"
     ]
    },
    {
     "data": {
      "text/plain": [
       "20.2"
      ]
     },
     "execution_count": 6,
     "metadata": {},
     "output_type": "execute_result"
    }
   ],
   "source": [
    "# a partir de dicionários, criando séries temporais\n",
    "\n",
    "dicionario_cotacoes = {\"WEGE3\": 20.20, \"PETR4\": 19.28, \"VALE\": 64.90, \"PETZ3\": 12.03}\n",
    "\n",
    "serie_cotacoes = pd.Series(dicionario_cotacoes)\n",
    "\n",
    "print(serie_cotacoes) \n",
    "print(serie_cotacoes['WEGE3'])\n",
    "serie_cotacoes[0]"
   ]
  },
  {
   "cell_type": "code",
   "execution_count": 7,
   "id": "5e31c430",
   "metadata": {},
   "outputs": [
    {
     "data": {
      "text/html": [
       "<div>\n",
       "<style scoped>\n",
       "    .dataframe tbody tr th:only-of-type {\n",
       "        vertical-align: middle;\n",
       "    }\n",
       "\n",
       "    .dataframe tbody tr th {\n",
       "        vertical-align: top;\n",
       "    }\n",
       "\n",
       "    .dataframe thead th {\n",
       "        text-align: right;\n",
       "    }\n",
       "</style>\n",
       "<table border=\"1\" class=\"dataframe\">\n",
       "  <thead>\n",
       "    <tr style=\"text-align: right;\">\n",
       "      <th></th>\n",
       "      <th>empresas</th>\n",
       "      <th>price</th>\n",
       "      <th>volume</th>\n",
       "    </tr>\n",
       "  </thead>\n",
       "  <tbody>\n",
       "    <tr>\n",
       "      <th>2019</th>\n",
       "      <td>Wege</td>\n",
       "      <td>20</td>\n",
       "      <td>1000</td>\n",
       "    </tr>\n",
       "    <tr>\n",
       "      <th>2020</th>\n",
       "      <td>Vale</td>\n",
       "      <td>30</td>\n",
       "      <td>4000</td>\n",
       "    </tr>\n",
       "    <tr>\n",
       "      <th>2021</th>\n",
       "      <td>Petrobras</td>\n",
       "      <td>40</td>\n",
       "      <td>7500</td>\n",
       "    </tr>\n",
       "  </tbody>\n",
       "</table>\n",
       "</div>"
      ],
      "text/plain": [
       "       empresas  price  volume\n",
       "2019       Wege     20    1000\n",
       "2020       Vale     30    4000\n",
       "2021  Petrobras     40    7500"
      ]
     },
     "execution_count": 7,
     "metadata": {},
     "output_type": "execute_result"
    }
   ],
   "source": [
    "# data frames\n",
    "\n",
    "# a partir de outras séries ou dicionários\n",
    "\n",
    "dicionario_dados = {\n",
    "    \t\"empresas\": pd.Series([\"Wege\", \"Vale\", \"Petrobras\"], index = [\"2019\", \"2020\", \"2021\"]),\n",
    "    \t\"price\": pd.Series([20, 30, 40], index = [\"2019\", \"2020\", \"2021\"]),\n",
    "    \t\"volume\": pd.Series([1000, 4000, 7500], index = [\"2019\", \"2020\", \"2021\"])\n",
    "}\n",
    "\n",
    "dados_diarios = pd.DataFrame(dicionario_dados)\n",
    "\n",
    "dados_diarios"
   ]
  },
  {
   "cell_type": "code",
   "execution_count": 8,
   "id": "0770cf88",
   "metadata": {},
   "outputs": [
    {
     "data": {
      "text/html": [
       "<div>\n",
       "<style scoped>\n",
       "    .dataframe tbody tr th:only-of-type {\n",
       "        vertical-align: middle;\n",
       "    }\n",
       "\n",
       "    .dataframe tbody tr th {\n",
       "        vertical-align: top;\n",
       "    }\n",
       "\n",
       "    .dataframe thead th {\n",
       "        text-align: right;\n",
       "    }\n",
       "</style>\n",
       "<table border=\"1\" class=\"dataframe\">\n",
       "  <thead>\n",
       "    <tr style=\"text-align: right;\">\n",
       "      <th></th>\n",
       "      <th>empresas</th>\n",
       "      <th>price</th>\n",
       "      <th>volume</th>\n",
       "    </tr>\n",
       "  </thead>\n",
       "  <tbody>\n",
       "    <tr>\n",
       "      <th>2019</th>\n",
       "      <td>Wege</td>\n",
       "      <td>20</td>\n",
       "      <td>1000</td>\n",
       "    </tr>\n",
       "    <tr>\n",
       "      <th>2020</th>\n",
       "      <td>Vale</td>\n",
       "      <td>30</td>\n",
       "      <td>4000</td>\n",
       "    </tr>\n",
       "    <tr>\n",
       "      <th>2021</th>\n",
       "      <td>Petrobras</td>\n",
       "      <td>40</td>\n",
       "      <td>7500</td>\n",
       "    </tr>\n",
       "  </tbody>\n",
       "</table>\n",
       "</div>"
      ],
      "text/plain": [
       "       empresas  price  volume\n",
       "2019       Wege     20    1000\n",
       "2020       Vale     30    4000\n",
       "2021  Petrobras     40    7500"
      ]
     },
     "execution_count": 8,
     "metadata": {},
     "output_type": "execute_result"
    }
   ],
   "source": [
    "dicionario_dados = {\n",
    "    \t\"empresas\": [\"Wege\", \"Vale\", \"Petrobras\"],\n",
    "    \t\"price\": [20, 30, 40],\n",
    "    \t\"volume\": [1000, 4000, 7500]\n",
    "}\n",
    "\n",
    "dados_diarios_from_dict = pd.DataFrame(dicionario_dados, index = [\"2019\", \"2020\", \"2021\"])\n",
    "\n",
    "dados_diarios_from_dict"
   ]
  },
  {
   "cell_type": "code",
   "execution_count": 9,
   "id": "ef8ec20a",
   "metadata": {},
   "outputs": [
    {
     "data": {
      "text/html": [
       "<div>\n",
       "<style scoped>\n",
       "    .dataframe tbody tr th:only-of-type {\n",
       "        vertical-align: middle;\n",
       "    }\n",
       "\n",
       "    .dataframe tbody tr th {\n",
       "        vertical-align: top;\n",
       "    }\n",
       "\n",
       "    .dataframe thead th {\n",
       "        text-align: right;\n",
       "    }\n",
       "</style>\n",
       "<table border=\"1\" class=\"dataframe\">\n",
       "  <thead>\n",
       "    <tr style=\"text-align: right;\">\n",
       "      <th></th>\n",
       "      <th>volume</th>\n",
       "      <th>price</th>\n",
       "      <th>empresas</th>\n",
       "    </tr>\n",
       "  </thead>\n",
       "  <tbody>\n",
       "    <tr>\n",
       "      <th>2019</th>\n",
       "      <td>1000</td>\n",
       "      <td>20</td>\n",
       "      <td>Wege</td>\n",
       "    </tr>\n",
       "    <tr>\n",
       "      <th>2020</th>\n",
       "      <td>4000</td>\n",
       "      <td>30</td>\n",
       "      <td>Vale</td>\n",
       "    </tr>\n",
       "    <tr>\n",
       "      <th>2021</th>\n",
       "      <td>7500</td>\n",
       "      <td>40</td>\n",
       "      <td>Petrobras</td>\n",
       "    </tr>\n",
       "  </tbody>\n",
       "</table>\n",
       "</div>"
      ],
      "text/plain": [
       "      volume  price   empresas\n",
       "2019    1000     20       Wege\n",
       "2020    4000     30       Vale\n",
       "2021    7500     40  Petrobras"
      ]
     },
     "execution_count": 9,
     "metadata": {},
     "output_type": "execute_result"
    }
   ],
   "source": [
    "# escolhendo colunas\n",
    "\n",
    "dicionario_dados = {\n",
    "    \t\"empresas\": [\"Wege\", \"Vale\", \"Petrobras\"],\n",
    "    \t\"price\": [20, 30, 40],\n",
    "    \t\"volume\": [1000, 4000, 7500]\n",
    "}\n",
    "\n",
    "dados_diarios_from_dict = pd.DataFrame(dicionario_dados, index = [\"2019\", \"2020\", \"2021\"], \n",
    "                                      columns = [\"volume\", \"price\", \"empresas\"])\n",
    "\n",
    "dados_diarios_from_dict"
   ]
  },
  {
   "cell_type": "code",
   "execution_count": 10,
   "id": "a03dd887",
   "metadata": {},
   "outputs": [
    {
     "data": {
      "text/html": [
       "<div>\n",
       "<style scoped>\n",
       "    .dataframe tbody tr th:only-of-type {\n",
       "        vertical-align: middle;\n",
       "    }\n",
       "\n",
       "    .dataframe tbody tr th {\n",
       "        vertical-align: top;\n",
       "    }\n",
       "\n",
       "    .dataframe thead th {\n",
       "        text-align: right;\n",
       "    }\n",
       "</style>\n",
       "<table border=\"1\" class=\"dataframe\">\n",
       "  <thead>\n",
       "    <tr style=\"text-align: right;\">\n",
       "      <th></th>\n",
       "      <th>cotacao</th>\n",
       "      <th>dia</th>\n",
       "    </tr>\n",
       "  </thead>\n",
       "  <tbody>\n",
       "    <tr>\n",
       "      <th>0</th>\n",
       "      <td>20</td>\n",
       "      <td>2019-12-21</td>\n",
       "    </tr>\n",
       "  </tbody>\n",
       "</table>\n",
       "</div>"
      ],
      "text/plain": [
       "   cotacao         dia\n",
       "0       20  2019-12-21"
      ]
     },
     "execution_count": 10,
     "metadata": {},
     "output_type": "execute_result"
    }
   ],
   "source": [
    "# cuidado! não esquecer o índice!\n",
    "\n",
    "dado = {\"cotacao\": 20, \"dia\": \"2019-12-21\"}\n",
    "\n",
    "dataframe = pd.DataFrame(dado, index = [0])\n",
    "\n",
    "dataframe"
   ]
  },
  {
   "cell_type": "code",
   "execution_count": null,
   "id": "c9525944",
   "metadata": {
    "scrolled": true
   },
   "outputs": [],
   "source": [
    "'''\n",
    "exercício 36: Crie uma série de números.\n",
    "exercício 37: Crie uma série de cotação randomica(random walk) para os próximos 30 dias de uma ação, partindo\n",
    "do preço inicial definido pelo usuário. Pressuponha que a média de retornos da ação é zero e seu desvio padrão\n",
    "diário (volatilidade) é de 1%.\n",
    "exercício 38: Crie um DataFrame com as seguintes informações:\n",
    "\t- tickers: \"WEGE3\", \"PETR3\", \"VALE3\", \"PETR4\" e \"LREN3\"\n",
    "    - cotaçoes: 20, 30, 40, 12, 35\n",
    "    - nomes: \"Weg\", \"Petrobras\", \"Vale\", \"Petrobras\" e \"Lojas Renner\"\n",
    "    - preco_sobre_lucro = 25, 6, 12, 7, 25\n",
    "    - volume: 5000, 1000, 4000, 7000, 1200\n",
    "'''"
   ]
  },
  {
   "cell_type": "code",
   "execution_count": 6,
   "id": "e43c75d6",
   "metadata": {},
   "outputs": [
    {
     "data": {
      "text/plain": [
       "0    20\n",
       "1    30\n",
       "2    40\n",
       "3    50\n",
       "dtype: int64"
      ]
     },
     "execution_count": 6,
     "metadata": {},
     "output_type": "execute_result"
    }
   ],
   "source": [
    "# 36\n",
    "\n",
    "numeros = [20, 30, 40, 50]\n",
    "\n",
    "serie = pd.Series(numeros)\n",
    "\n",
    "serie"
   ]
  },
  {
   "cell_type": "code",
   "execution_count": 2,
   "id": "de8b4e0a",
   "metadata": {},
   "outputs": [
    {
     "name": "stdout",
     "output_type": "stream",
     "text": [
      "Qual a cotação inicial da ação? 20\n",
      "0     20.000000\n",
      "1     20.132624\n",
      "2     19.866784\n",
      "3     19.848478\n",
      "4     19.727634\n",
      "5     19.950114\n",
      "6     20.047047\n",
      "7     19.908644\n",
      "8     19.745390\n",
      "9     19.621147\n",
      "10    19.406680\n",
      "11    19.517484\n",
      "12    19.211732\n",
      "13    19.355112\n",
      "14    19.284744\n",
      "15    19.430084\n",
      "16    19.826111\n",
      "17    19.469554\n",
      "18    19.426693\n",
      "19    19.147307\n",
      "20    19.189214\n",
      "21    19.135592\n",
      "22    19.475273\n",
      "23    19.377922\n",
      "24    19.311745\n",
      "25    19.448625\n",
      "26    19.759455\n",
      "27    19.836599\n",
      "28    19.784505\n",
      "29    19.830511\n",
      "dtype: float64\n"
     ]
    }
   ],
   "source": [
    "# 37\n",
    "\n",
    "import random\n",
    "\n",
    "cotacao_inicial = float(input(\"Qual a cotação inicial da ação? \"))\n",
    "\n",
    "periodo_projecao = 30\n",
    "lista_cotacoes = [cotacao_inicial]\n",
    "lista_dias = [0]\n",
    "volatilidade_diaria = 0.01\n",
    "\n",
    "for i in range(1, periodo_projecao):\n",
    "    \n",
    "    cotacao_seguinte = lista_cotacoes[-1] * (1 + np.random.normal(0, volatilidade_diaria))\n",
    "    \n",
    "    lista_cotacoes.append(cotacao_seguinte)\n",
    "    lista_dias.append(i)\n",
    "    \n",
    "serie_final = pd.Series(lista_cotacoes, index = lista_dias)\n",
    "\n",
    "print(serie_final)\n"
   ]
  },
  {
   "cell_type": "code",
   "execution_count": 3,
   "id": "ce10980b",
   "metadata": {},
   "outputs": [
    {
     "data": {
      "text/plain": [
       "<Axes: >"
      ]
     },
     "execution_count": 3,
     "metadata": {},
     "output_type": "execute_result"
    },
    {
     "data": {
      "image/png": "[encoded data removed]",
      "text/plain": [
       "<Figure size 640x480 with 1 Axes>"
      ]
     },
     "metadata": {},
     "output_type": "display_data"
    }
   ],
   "source": [
    "# bonûs\n",
    "\n",
    "serie_final.plot()"
   ]
  },
  {
   "cell_type": "code",
   "execution_count": 6,
   "id": "d08d5caf",
   "metadata": {},
   "outputs": [
    {
     "data": {
      "text/html": [
       "<div>\n",
       "<style scoped>\n",
       "    .dataframe tbody tr th:only-of-type {\n",
       "        vertical-align: middle;\n",
       "    }\n",
       "\n",
       "    .dataframe tbody tr th {\n",
       "        vertical-align: top;\n",
       "    }\n",
       "\n",
       "    .dataframe thead th {\n",
       "        text-align: right;\n",
       "    }\n",
       "</style>\n",
       "<table border=\"1\" class=\"dataframe\">\n",
       "  <thead>\n",
       "    <tr style=\"text-align: right;\">\n",
       "      <th></th>\n",
       "      <th>nomes</th>\n",
       "      <th>tickers</th>\n",
       "      <th>cotaçoes</th>\n",
       "      <th>preco_sobre_lucro</th>\n",
       "      <th>volume</th>\n",
       "    </tr>\n",
       "  </thead>\n",
       "  <tbody>\n",
       "    <tr>\n",
       "      <th>0</th>\n",
       "      <td>Weg</td>\n",
       "      <td>WEGE3</td>\n",
       "      <td>20</td>\n",
       "      <td>25</td>\n",
       "      <td>5000</td>\n",
       "    </tr>\n",
       "    <tr>\n",
       "      <th>1</th>\n",
       "      <td>Petrobras</td>\n",
       "      <td>PETR3</td>\n",
       "      <td>30</td>\n",
       "      <td>6</td>\n",
       "      <td>1000</td>\n",
       "    </tr>\n",
       "    <tr>\n",
       "      <th>2</th>\n",
       "      <td>Vale</td>\n",
       "      <td>VALE3</td>\n",
       "      <td>40</td>\n",
       "      <td>12</td>\n",
       "      <td>4000</td>\n",
       "    </tr>\n",
       "    <tr>\n",
       "      <th>3</th>\n",
       "      <td>Petrobras</td>\n",
       "      <td>PETR4</td>\n",
       "      <td>12</td>\n",
       "      <td>7</td>\n",
       "      <td>7000</td>\n",
       "    </tr>\n",
       "    <tr>\n",
       "      <th>4</th>\n",
       "      <td>Lojas Renner</td>\n",
       "      <td>LREN3</td>\n",
       "      <td>35</td>\n",
       "      <td>25</td>\n",
       "      <td>1200</td>\n",
       "    </tr>\n",
       "  </tbody>\n",
       "</table>\n",
       "</div>"
      ],
      "text/plain": [
       "          nomes tickers  cotaçoes  preco_sobre_lucro  volume\n",
       "0           Weg   WEGE3        20                 25    5000\n",
       "1     Petrobras   PETR3        30                  6    1000\n",
       "2          Vale   VALE3        40                 12    4000\n",
       "3     Petrobras   PETR4        12                  7    7000\n",
       "4  Lojas Renner   LREN3        35                 25    1200"
      ]
     },
     "execution_count": 6,
     "metadata": {},
     "output_type": "execute_result"
    }
   ],
   "source": [
    "# 38\n",
    "\n",
    "dicionario = {\n",
    "    \"nomes\": [\"Weg\", \"Petrobras\", \"Vale\", \"Petrobras\", \"Lojas Renner\"],\n",
    "\t\"tickers\": [\"WEGE3\", \"PETR3\", \"VALE3\", \"PETR4\", \"LREN3\"],\n",
    "    \"cotaçoes\": [20, 30, 40, 12, 35],\n",
    "    \"preco_sobre_lucro\":  [25, 6, 12, 7, 25],\n",
    "    \"volume\": [5000, 1000, 4000, 7000, 1200]\n",
    "}\n",
    "\n",
    "df_info_empresas = pd.DataFrame(dicionario)\n",
    "\n",
    "df_info_empresas"
   ]
  }
 ],
 "metadata": {
  "kernelspec": {
   "display_name": "Python 3 (ipykernel)",
   "language": "python",
   "name": "python3"
  },
  "language_info": {
   "codemirror_mode": {
    "name": "ipython",
    "version": 3
   },
   "file_extension": ".py",
   "mimetype": "text/x-python",
   "name": "python",
   "nbconvert_exporter": "python",
   "pygments_lexer": "ipython3",
   "version": "3.11.3"
  }
 },
 "nbformat": 4,
 "nbformat_minor": 5
}
